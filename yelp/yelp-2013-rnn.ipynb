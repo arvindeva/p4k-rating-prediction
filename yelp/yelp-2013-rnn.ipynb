{
 "cells": [
  {
   "cell_type": "code",
   "execution_count": 1,
   "metadata": {
    "colab": {
     "base_uri": "https://localhost:8080/"
    },
    "executionInfo": {
     "elapsed": 18920,
     "status": "ok",
     "timestamp": 1689256664467,
     "user": {
      "displayName": "Arvindeva Wibisono",
      "userId": "16350606526935612421"
     },
     "user_tz": -120
    },
    "id": "CWuhh_bKibqi",
    "outputId": "f0a5f2bc-22e2-421c-a190-88d3fa85f0d0"
   },
   "outputs": [
    {
     "name": "stdout",
     "output_type": "stream",
     "text": [
      "Mounted at /content/drive\n"
     ]
    }
   ],
   "source": [
    "from google.colab import drive\n",
    "drive.mount('/content/drive')"
   ]
  },
  {
   "cell_type": "code",
   "execution_count": 2,
   "metadata": {
    "executionInfo": {
     "elapsed": 4453,
     "status": "ok",
     "timestamp": 1689256668918,
     "user": {
      "displayName": "Arvindeva Wibisono",
      "userId": "16350606526935612421"
     },
     "user_tz": -120
    },
    "id": "utMLsN02jP1y"
   },
   "outputs": [],
   "source": [
    "import pandas as pd\n",
    "import numpy as np\n",
    "from nltk import download\n",
    "from nltk import word_tokenize\n",
    "\n",
    "# Make numpy values easier to read.\n",
    "np.set_printoptions(precision=3, suppress=True)\n",
    "\n",
    "import tensorflow as tf\n",
    "from keras import layers\n"
   ]
  },
  {
   "cell_type": "code",
   "execution_count": 3,
   "metadata": {
    "colab": {
     "base_uri": "https://localhost:8080/"
    },
    "executionInfo": {
     "elapsed": 429,
     "status": "ok",
     "timestamp": 1689256669338,
     "user": {
      "displayName": "Arvindeva Wibisono",
      "userId": "16350606526935612421"
     },
     "user_tz": -120
    },
    "id": "0umhUP0qjYWh",
    "outputId": "3224bb5c-8d63-44a1-cbb5-512bc83597e8"
   },
   "outputs": [
    {
     "name": "stderr",
     "output_type": "stream",
     "text": [
      "[nltk_data] Downloading package punkt to /root/nltk_data...\n",
      "[nltk_data]   Unzipping tokenizers/punkt.zip.\n"
     ]
    },
    {
     "data": {
      "text/plain": [
       "True"
      ]
     },
     "execution_count": 3,
     "metadata": {},
     "output_type": "execute_result"
    }
   ],
   "source": [
    "download('punkt')"
   ]
  },
  {
   "cell_type": "code",
   "execution_count": 4,
   "metadata": {
    "executionInfo": {
     "elapsed": 656,
     "status": "ok",
     "timestamp": 1689256669992,
     "user": {
      "displayName": "Arvindeva Wibisono",
      "userId": "16350606526935612421"
     },
     "user_tz": -120
    },
    "id": "ieXA0noajZpo"
   },
   "outputs": [],
   "source": [
    "df = pd.read_pickle('/content/drive/My Drive/dataset/yelp_2013_balanced.pkl')"
   ]
  },
  {
   "cell_type": "code",
   "execution_count": 5,
   "metadata": {
    "colab": {
     "base_uri": "https://localhost:8080/",
     "height": 455
    },
    "executionInfo": {
     "elapsed": 4,
     "status": "ok",
     "timestamp": 1689256669992,
     "user": {
      "displayName": "Arvindeva Wibisono",
      "userId": "16350606526935612421"
     },
     "user_tz": -120
    },
    "id": "QJyYGWe0jjxY",
    "outputId": "30d687fe-247c-4e3b-8968-0573c4b35650"
   },
   "outputs": [
    {
     "data": {
      "text/html": [
       "\n",
       "\n",
       "  <div id=\"df-15ea5959-63c4-4535-bff6-bf9d4e7bed75\">\n",
       "    <div class=\"colab-df-container\">\n",
       "      <div>\n",
       "<style scoped>\n",
       "    .dataframe tbody tr th:only-of-type {\n",
       "        vertical-align: middle;\n",
       "    }\n",
       "\n",
       "    .dataframe tbody tr th {\n",
       "        vertical-align: top;\n",
       "    }\n",
       "\n",
       "    .dataframe thead th {\n",
       "        text-align: right;\n",
       "    }\n",
       "</style>\n",
       "<table border=\"1\" class=\"dataframe\">\n",
       "  <thead>\n",
       "    <tr style=\"text-align: right;\">\n",
       "      <th></th>\n",
       "      <th></th>\n",
       "      <th>text</th>\n",
       "      <th>stars</th>\n",
       "      <th>years</th>\n",
       "    </tr>\n",
       "    <tr>\n",
       "      <th>stars</th>\n",
       "      <th></th>\n",
       "      <th></th>\n",
       "      <th></th>\n",
       "      <th></th>\n",
       "    </tr>\n",
       "  </thead>\n",
       "  <tbody>\n",
       "    <tr>\n",
       "      <th rowspan=\"5\" valign=\"top\">1</th>\n",
       "      <th>344103</th>\n",
       "      <td>It's a shame that my family has been frequenti...</td>\n",
       "      <td>1</td>\n",
       "      <td>2013</td>\n",
       "    </tr>\n",
       "    <tr>\n",
       "      <th>3495320</th>\n",
       "      <td>My general opinion of writing Yelp reviews is ...</td>\n",
       "      <td>1</td>\n",
       "      <td>2013</td>\n",
       "    </tr>\n",
       "    <tr>\n",
       "      <th>3500592</th>\n",
       "      <td>made reservations on thursday night for saturd...</td>\n",
       "      <td>1</td>\n",
       "      <td>2013</td>\n",
       "    </tr>\n",
       "    <tr>\n",
       "      <th>3976123</th>\n",
       "      <td>It was a night I hope to forget, but I'll stil...</td>\n",
       "      <td>1</td>\n",
       "      <td>2013</td>\n",
       "    </tr>\n",
       "    <tr>\n",
       "      <th>796941</th>\n",
       "      <td>Trainwreck is appropriately named based on tod...</td>\n",
       "      <td>1</td>\n",
       "      <td>2013</td>\n",
       "    </tr>\n",
       "    <tr>\n",
       "      <th>...</th>\n",
       "      <th>...</th>\n",
       "      <td>...</td>\n",
       "      <td>...</td>\n",
       "      <td>...</td>\n",
       "    </tr>\n",
       "    <tr>\n",
       "      <th rowspan=\"5\" valign=\"top\">5</th>\n",
       "      <th>1597611</th>\n",
       "      <td>Had a wonderful brunch with girlfriends today!...</td>\n",
       "      <td>5</td>\n",
       "      <td>2013</td>\n",
       "    </tr>\n",
       "    <tr>\n",
       "      <th>35945</th>\n",
       "      <td>Newer is always better, but not in this case. ...</td>\n",
       "      <td>5</td>\n",
       "      <td>2013</td>\n",
       "    </tr>\n",
       "    <tr>\n",
       "      <th>716138</th>\n",
       "      <td>I love this place! The prices are reasonable a...</td>\n",
       "      <td>5</td>\n",
       "      <td>2013</td>\n",
       "    </tr>\n",
       "    <tr>\n",
       "      <th>3190993</th>\n",
       "      <td>I ordered a whole tomato pie, a whole chicken ...</td>\n",
       "      <td>5</td>\n",
       "      <td>2013</td>\n",
       "    </tr>\n",
       "    <tr>\n",
       "      <th>767765</th>\n",
       "      <td>Friendly wait staff, great atmosphere and on-s...</td>\n",
       "      <td>5</td>\n",
       "      <td>2013</td>\n",
       "    </tr>\n",
       "  </tbody>\n",
       "</table>\n",
       "<p>12500 rows × 3 columns</p>\n",
       "</div>\n",
       "      <button class=\"colab-df-convert\" onclick=\"convertToInteractive('df-15ea5959-63c4-4535-bff6-bf9d4e7bed75')\"\n",
       "              title=\"Convert this dataframe to an interactive table.\"\n",
       "              style=\"display:none;\">\n",
       "\n",
       "  <svg xmlns=\"http://www.w3.org/2000/svg\" height=\"24px\"viewBox=\"0 0 24 24\"\n",
       "       width=\"24px\">\n",
       "    <path d=\"M0 0h24v24H0V0z\" fill=\"none\"/>\n",
       "    <path d=\"M18.56 5.44l.94 2.06.94-2.06 2.06-.94-2.06-.94-.94-2.06-.94 2.06-2.06.94zm-11 1L8.5 8.5l.94-2.06 2.06-.94-2.06-.94L8.5 2.5l-.94 2.06-2.06.94zm10 10l.94 2.06.94-2.06 2.06-.94-2.06-.94-.94-2.06-.94 2.06-2.06.94z\"/><path d=\"M17.41 7.96l-1.37-1.37c-.4-.4-.92-.59-1.43-.59-.52 0-1.04.2-1.43.59L10.3 9.45l-7.72 7.72c-.78.78-.78 2.05 0 2.83L4 21.41c.39.39.9.59 1.41.59.51 0 1.02-.2 1.41-.59l7.78-7.78 2.81-2.81c.8-.78.8-2.07 0-2.86zM5.41 20L4 18.59l7.72-7.72 1.47 1.35L5.41 20z\"/>\n",
       "  </svg>\n",
       "      </button>\n",
       "\n",
       "\n",
       "\n",
       "    <div id=\"df-1ea3f35b-7bb1-411d-9779-efccd5cbb593\">\n",
       "      <button class=\"colab-df-quickchart\" onclick=\"quickchart('df-1ea3f35b-7bb1-411d-9779-efccd5cbb593')\"\n",
       "              title=\"Suggest charts.\"\n",
       "              style=\"display:none;\">\n",
       "\n",
       "<svg xmlns=\"http://www.w3.org/2000/svg\" height=\"24px\"viewBox=\"0 0 24 24\"\n",
       "     width=\"24px\">\n",
       "    <g>\n",
       "        <path d=\"M19 3H5c-1.1 0-2 .9-2 2v14c0 1.1.9 2 2 2h14c1.1 0 2-.9 2-2V5c0-1.1-.9-2-2-2zM9 17H7v-7h2v7zm4 0h-2V7h2v10zm4 0h-2v-4h2v4z\"/>\n",
       "    </g>\n",
       "</svg>\n",
       "      </button>\n",
       "    </div>\n",
       "\n",
       "<style>\n",
       "  .colab-df-quickchart {\n",
       "    background-color: #E8F0FE;\n",
       "    border: none;\n",
       "    border-radius: 50%;\n",
       "    cursor: pointer;\n",
       "    display: none;\n",
       "    fill: #1967D2;\n",
       "    height: 32px;\n",
       "    padding: 0 0 0 0;\n",
       "    width: 32px;\n",
       "  }\n",
       "\n",
       "  .colab-df-quickchart:hover {\n",
       "    background-color: #E2EBFA;\n",
       "    box-shadow: 0px 1px 2px rgba(60, 64, 67, 0.3), 0px 1px 3px 1px rgba(60, 64, 67, 0.15);\n",
       "    fill: #174EA6;\n",
       "  }\n",
       "\n",
       "  [theme=dark] .colab-df-quickchart {\n",
       "    background-color: #3B4455;\n",
       "    fill: #D2E3FC;\n",
       "  }\n",
       "\n",
       "  [theme=dark] .colab-df-quickchart:hover {\n",
       "    background-color: #434B5C;\n",
       "    box-shadow: 0px 1px 3px 1px rgba(0, 0, 0, 0.15);\n",
       "    filter: drop-shadow(0px 1px 2px rgba(0, 0, 0, 0.3));\n",
       "    fill: #FFFFFF;\n",
       "  }\n",
       "</style>\n",
       "\n",
       "    <script>\n",
       "      async function quickchart(key) {\n",
       "        const containerElement = document.querySelector('#' + key);\n",
       "        const charts = await google.colab.kernel.invokeFunction(\n",
       "            'suggestCharts', [key], {});\n",
       "      }\n",
       "    </script>\n",
       "\n",
       "      <script>\n",
       "\n",
       "function displayQuickchartButton(domScope) {\n",
       "  let quickchartButtonEl =\n",
       "    domScope.querySelector('#df-1ea3f35b-7bb1-411d-9779-efccd5cbb593 button.colab-df-quickchart');\n",
       "  quickchartButtonEl.style.display =\n",
       "    google.colab.kernel.accessAllowed ? 'block' : 'none';\n",
       "}\n",
       "\n",
       "        displayQuickchartButton(document);\n",
       "      </script>\n",
       "      <style>\n",
       "    .colab-df-container {\n",
       "      display:flex;\n",
       "      flex-wrap:wrap;\n",
       "      gap: 12px;\n",
       "    }\n",
       "\n",
       "    .colab-df-convert {\n",
       "      background-color: #E8F0FE;\n",
       "      border: none;\n",
       "      border-radius: 50%;\n",
       "      cursor: pointer;\n",
       "      display: none;\n",
       "      fill: #1967D2;\n",
       "      height: 32px;\n",
       "      padding: 0 0 0 0;\n",
       "      width: 32px;\n",
       "    }\n",
       "\n",
       "    .colab-df-convert:hover {\n",
       "      background-color: #E2EBFA;\n",
       "      box-shadow: 0px 1px 2px rgba(60, 64, 67, 0.3), 0px 1px 3px 1px rgba(60, 64, 67, 0.15);\n",
       "      fill: #174EA6;\n",
       "    }\n",
       "\n",
       "    [theme=dark] .colab-df-convert {\n",
       "      background-color: #3B4455;\n",
       "      fill: #D2E3FC;\n",
       "    }\n",
       "\n",
       "    [theme=dark] .colab-df-convert:hover {\n",
       "      background-color: #434B5C;\n",
       "      box-shadow: 0px 1px 3px 1px rgba(0, 0, 0, 0.15);\n",
       "      filter: drop-shadow(0px 1px 2px rgba(0, 0, 0, 0.3));\n",
       "      fill: #FFFFFF;\n",
       "    }\n",
       "  </style>\n",
       "\n",
       "      <script>\n",
       "        const buttonEl =\n",
       "          document.querySelector('#df-15ea5959-63c4-4535-bff6-bf9d4e7bed75 button.colab-df-convert');\n",
       "        buttonEl.style.display =\n",
       "          google.colab.kernel.accessAllowed ? 'block' : 'none';\n",
       "\n",
       "        async function convertToInteractive(key) {\n",
       "          const element = document.querySelector('#df-15ea5959-63c4-4535-bff6-bf9d4e7bed75');\n",
       "          const dataTable =\n",
       "            await google.colab.kernel.invokeFunction('convertToInteractive',\n",
       "                                                     [key], {});\n",
       "          if (!dataTable) return;\n",
       "\n",
       "          const docLinkHtml = 'Like what you see? Visit the ' +\n",
       "            '<a target=\"_blank\" href=https://colab.research.google.com/notebooks/data_table.ipynb>data table notebook</a>'\n",
       "            + ' to learn more about interactive tables.';\n",
       "          element.innerHTML = '';\n",
       "          dataTable['output_type'] = 'display_data';\n",
       "          await google.colab.output.renderOutput(dataTable, element);\n",
       "          const docLink = document.createElement('div');\n",
       "          docLink.innerHTML = docLinkHtml;\n",
       "          element.appendChild(docLink);\n",
       "        }\n",
       "      </script>\n",
       "    </div>\n",
       "  </div>\n"
      ],
      "text/plain": [
       "                                                            text  stars  years\n",
       "stars                                                                         \n",
       "1     344103   It's a shame that my family has been frequenti...      1   2013\n",
       "      3495320  My general opinion of writing Yelp reviews is ...      1   2013\n",
       "      3500592  made reservations on thursday night for saturd...      1   2013\n",
       "      3976123  It was a night I hope to forget, but I'll stil...      1   2013\n",
       "      796941   Trainwreck is appropriately named based on tod...      1   2013\n",
       "...                                                          ...    ...    ...\n",
       "5     1597611  Had a wonderful brunch with girlfriends today!...      5   2013\n",
       "      35945    Newer is always better, but not in this case. ...      5   2013\n",
       "      716138   I love this place! The prices are reasonable a...      5   2013\n",
       "      3190993  I ordered a whole tomato pie, a whole chicken ...      5   2013\n",
       "      767765   Friendly wait staff, great atmosphere and on-s...      5   2013\n",
       "\n",
       "[12500 rows x 3 columns]"
      ]
     },
     "execution_count": 5,
     "metadata": {},
     "output_type": "execute_result"
    }
   ],
   "source": [
    "df"
   ]
  },
  {
   "cell_type": "code",
   "execution_count": 6,
   "metadata": {
    "colab": {
     "base_uri": "https://localhost:8080/",
     "height": 272
    },
    "executionInfo": {
     "elapsed": 13947,
     "status": "ok",
     "timestamp": 1689256683936,
     "user": {
      "displayName": "Arvindeva Wibisono",
      "userId": "16350606526935612421"
     },
     "user_tz": -120
    },
    "id": "TMRaE3eljlv0",
    "outputId": "1e131e8a-4cd7-4b53-b03e-430674d0f85b"
   },
   "outputs": [
    {
     "name": "stdout",
     "output_type": "stream",
     "text": [
      "There are 33862 unique words in the dataset.\n",
      "There are 12500 unique tweets in the dataset.\n"
     ]
    },
    {
     "data": {
      "text/html": [
       "\n",
       "\n",
       "  <div id=\"df-6cf7a412-6b48-406e-86c9-239ea659b36b\">\n",
       "    <div class=\"colab-df-container\">\n",
       "      <div>\n",
       "<style scoped>\n",
       "    .dataframe tbody tr th:only-of-type {\n",
       "        vertical-align: middle;\n",
       "    }\n",
       "\n",
       "    .dataframe tbody tr th {\n",
       "        vertical-align: top;\n",
       "    }\n",
       "\n",
       "    .dataframe thead th {\n",
       "        text-align: right;\n",
       "    }\n",
       "</style>\n",
       "<table border=\"1\" class=\"dataframe\">\n",
       "  <thead>\n",
       "    <tr style=\"text-align: right;\">\n",
       "      <th></th>\n",
       "      <th></th>\n",
       "      <th>text</th>\n",
       "      <th>stars</th>\n",
       "      <th>years</th>\n",
       "    </tr>\n",
       "    <tr>\n",
       "      <th>stars</th>\n",
       "      <th></th>\n",
       "      <th></th>\n",
       "      <th></th>\n",
       "      <th></th>\n",
       "    </tr>\n",
       "  </thead>\n",
       "  <tbody>\n",
       "    <tr>\n",
       "      <th rowspan=\"5\" valign=\"top\">1</th>\n",
       "      <th>344103</th>\n",
       "      <td>It's a shame that my family has been frequenti...</td>\n",
       "      <td>1</td>\n",
       "      <td>2013</td>\n",
       "    </tr>\n",
       "    <tr>\n",
       "      <th>3495320</th>\n",
       "      <td>My general opinion of writing Yelp reviews is ...</td>\n",
       "      <td>1</td>\n",
       "      <td>2013</td>\n",
       "    </tr>\n",
       "    <tr>\n",
       "      <th>3500592</th>\n",
       "      <td>made reservations on thursday night for saturd...</td>\n",
       "      <td>1</td>\n",
       "      <td>2013</td>\n",
       "    </tr>\n",
       "    <tr>\n",
       "      <th>3976123</th>\n",
       "      <td>It was a night I hope to forget, but I'll stil...</td>\n",
       "      <td>1</td>\n",
       "      <td>2013</td>\n",
       "    </tr>\n",
       "    <tr>\n",
       "      <th>796941</th>\n",
       "      <td>Trainwreck is appropriately named based on tod...</td>\n",
       "      <td>1</td>\n",
       "      <td>2013</td>\n",
       "    </tr>\n",
       "  </tbody>\n",
       "</table>\n",
       "</div>\n",
       "      <button class=\"colab-df-convert\" onclick=\"convertToInteractive('df-6cf7a412-6b48-406e-86c9-239ea659b36b')\"\n",
       "              title=\"Convert this dataframe to an interactive table.\"\n",
       "              style=\"display:none;\">\n",
       "\n",
       "  <svg xmlns=\"http://www.w3.org/2000/svg\" height=\"24px\"viewBox=\"0 0 24 24\"\n",
       "       width=\"24px\">\n",
       "    <path d=\"M0 0h24v24H0V0z\" fill=\"none\"/>\n",
       "    <path d=\"M18.56 5.44l.94 2.06.94-2.06 2.06-.94-2.06-.94-.94-2.06-.94 2.06-2.06.94zm-11 1L8.5 8.5l.94-2.06 2.06-.94-2.06-.94L8.5 2.5l-.94 2.06-2.06.94zm10 10l.94 2.06.94-2.06 2.06-.94-2.06-.94-.94-2.06-.94 2.06-2.06.94z\"/><path d=\"M17.41 7.96l-1.37-1.37c-.4-.4-.92-.59-1.43-.59-.52 0-1.04.2-1.43.59L10.3 9.45l-7.72 7.72c-.78.78-.78 2.05 0 2.83L4 21.41c.39.39.9.59 1.41.59.51 0 1.02-.2 1.41-.59l7.78-7.78 2.81-2.81c.8-.78.8-2.07 0-2.86zM5.41 20L4 18.59l7.72-7.72 1.47 1.35L5.41 20z\"/>\n",
       "  </svg>\n",
       "      </button>\n",
       "\n",
       "\n",
       "\n",
       "    <div id=\"df-1e2efc0d-9362-4e18-8447-65d871b01e08\">\n",
       "      <button class=\"colab-df-quickchart\" onclick=\"quickchart('df-1e2efc0d-9362-4e18-8447-65d871b01e08')\"\n",
       "              title=\"Suggest charts.\"\n",
       "              style=\"display:none;\">\n",
       "\n",
       "<svg xmlns=\"http://www.w3.org/2000/svg\" height=\"24px\"viewBox=\"0 0 24 24\"\n",
       "     width=\"24px\">\n",
       "    <g>\n",
       "        <path d=\"M19 3H5c-1.1 0-2 .9-2 2v14c0 1.1.9 2 2 2h14c1.1 0 2-.9 2-2V5c0-1.1-.9-2-2-2zM9 17H7v-7h2v7zm4 0h-2V7h2v10zm4 0h-2v-4h2v4z\"/>\n",
       "    </g>\n",
       "</svg>\n",
       "      </button>\n",
       "    </div>\n",
       "\n",
       "<style>\n",
       "  .colab-df-quickchart {\n",
       "    background-color: #E8F0FE;\n",
       "    border: none;\n",
       "    border-radius: 50%;\n",
       "    cursor: pointer;\n",
       "    display: none;\n",
       "    fill: #1967D2;\n",
       "    height: 32px;\n",
       "    padding: 0 0 0 0;\n",
       "    width: 32px;\n",
       "  }\n",
       "\n",
       "  .colab-df-quickchart:hover {\n",
       "    background-color: #E2EBFA;\n",
       "    box-shadow: 0px 1px 2px rgba(60, 64, 67, 0.3), 0px 1px 3px 1px rgba(60, 64, 67, 0.15);\n",
       "    fill: #174EA6;\n",
       "  }\n",
       "\n",
       "  [theme=dark] .colab-df-quickchart {\n",
       "    background-color: #3B4455;\n",
       "    fill: #D2E3FC;\n",
       "  }\n",
       "\n",
       "  [theme=dark] .colab-df-quickchart:hover {\n",
       "    background-color: #434B5C;\n",
       "    box-shadow: 0px 1px 3px 1px rgba(0, 0, 0, 0.15);\n",
       "    filter: drop-shadow(0px 1px 2px rgba(0, 0, 0, 0.3));\n",
       "    fill: #FFFFFF;\n",
       "  }\n",
       "</style>\n",
       "\n",
       "    <script>\n",
       "      async function quickchart(key) {\n",
       "        const containerElement = document.querySelector('#' + key);\n",
       "        const charts = await google.colab.kernel.invokeFunction(\n",
       "            'suggestCharts', [key], {});\n",
       "      }\n",
       "    </script>\n",
       "\n",
       "      <script>\n",
       "\n",
       "function displayQuickchartButton(domScope) {\n",
       "  let quickchartButtonEl =\n",
       "    domScope.querySelector('#df-1e2efc0d-9362-4e18-8447-65d871b01e08 button.colab-df-quickchart');\n",
       "  quickchartButtonEl.style.display =\n",
       "    google.colab.kernel.accessAllowed ? 'block' : 'none';\n",
       "}\n",
       "\n",
       "        displayQuickchartButton(document);\n",
       "      </script>\n",
       "      <style>\n",
       "    .colab-df-container {\n",
       "      display:flex;\n",
       "      flex-wrap:wrap;\n",
       "      gap: 12px;\n",
       "    }\n",
       "\n",
       "    .colab-df-convert {\n",
       "      background-color: #E8F0FE;\n",
       "      border: none;\n",
       "      border-radius: 50%;\n",
       "      cursor: pointer;\n",
       "      display: none;\n",
       "      fill: #1967D2;\n",
       "      height: 32px;\n",
       "      padding: 0 0 0 0;\n",
       "      width: 32px;\n",
       "    }\n",
       "\n",
       "    .colab-df-convert:hover {\n",
       "      background-color: #E2EBFA;\n",
       "      box-shadow: 0px 1px 2px rgba(60, 64, 67, 0.3), 0px 1px 3px 1px rgba(60, 64, 67, 0.15);\n",
       "      fill: #174EA6;\n",
       "    }\n",
       "\n",
       "    [theme=dark] .colab-df-convert {\n",
       "      background-color: #3B4455;\n",
       "      fill: #D2E3FC;\n",
       "    }\n",
       "\n",
       "    [theme=dark] .colab-df-convert:hover {\n",
       "      background-color: #434B5C;\n",
       "      box-shadow: 0px 1px 3px 1px rgba(0, 0, 0, 0.15);\n",
       "      filter: drop-shadow(0px 1px 2px rgba(0, 0, 0, 0.3));\n",
       "      fill: #FFFFFF;\n",
       "    }\n",
       "  </style>\n",
       "\n",
       "      <script>\n",
       "        const buttonEl =\n",
       "          document.querySelector('#df-6cf7a412-6b48-406e-86c9-239ea659b36b button.colab-df-convert');\n",
       "        buttonEl.style.display =\n",
       "          google.colab.kernel.accessAllowed ? 'block' : 'none';\n",
       "\n",
       "        async function convertToInteractive(key) {\n",
       "          const element = document.querySelector('#df-6cf7a412-6b48-406e-86c9-239ea659b36b');\n",
       "          const dataTable =\n",
       "            await google.colab.kernel.invokeFunction('convertToInteractive',\n",
       "                                                     [key], {});\n",
       "          if (!dataTable) return;\n",
       "\n",
       "          const docLinkHtml = 'Like what you see? Visit the ' +\n",
       "            '<a target=\"_blank\" href=https://colab.research.google.com/notebooks/data_table.ipynb>data table notebook</a>'\n",
       "            + ' to learn more about interactive tables.';\n",
       "          element.innerHTML = '';\n",
       "          dataTable['output_type'] = 'display_data';\n",
       "          await google.colab.output.renderOutput(dataTable, element);\n",
       "          const docLink = document.createElement('div');\n",
       "          docLink.innerHTML = docLinkHtml;\n",
       "          element.appendChild(docLink);\n",
       "        }\n",
       "      </script>\n",
       "    </div>\n",
       "  </div>\n"
      ],
      "text/plain": [
       "                                                            text  stars  years\n",
       "stars                                                                         \n",
       "1     344103   It's a shame that my family has been frequenti...      1   2013\n",
       "      3495320  My general opinion of writing Yelp reviews is ...      1   2013\n",
       "      3500592  made reservations on thursday night for saturd...      1   2013\n",
       "      3976123  It was a night I hope to forget, but I'll stil...      1   2013\n",
       "      796941   Trainwreck is appropriately named based on tod...      1   2013"
      ]
     },
     "execution_count": 6,
     "metadata": {},
     "output_type": "execute_result"
    }
   ],
   "source": [
    "data = df['text'].map(word_tokenize).values\n",
    "total_vocabulary = set(word.lower() for review in data for word in review)  # set created from nested comprehension\n",
    "print('There are {} unique words in the dataset.'.format(len(total_vocabulary)))\n",
    "print('There are {} unique tweets in the dataset.'.format(len(data)))\n",
    "\n",
    "\n",
    "df.head()"
   ]
  },
  {
   "cell_type": "code",
   "execution_count": 7,
   "metadata": {
    "executionInfo": {
     "elapsed": 15,
     "status": "ok",
     "timestamp": 1689256683937,
     "user": {
      "displayName": "Arvindeva Wibisono",
      "userId": "16350606526935612421"
     },
     "user_tz": -120
    },
    "id": "WthnQEC1joVB"
   },
   "outputs": [],
   "source": [
    "from keras.utils import pad_sequences\n",
    "from keras.layers import Input, Dense, LSTM, Embedding\n",
    "from keras.layers import Dropout, Activation, Bidirectional, GlobalMaxPool1D, CuDNNLSTM\n",
    "from keras.models import Sequential\n",
    "from keras import initializers, regularizers, constraints, optimizers, layers, optimizers\n",
    "from keras.preprocessing import text, sequence"
   ]
  },
  {
   "cell_type": "code",
   "execution_count": 8,
   "metadata": {
    "executionInfo": {
     "elapsed": 14,
     "status": "ok",
     "timestamp": 1689256683937,
     "user": {
      "displayName": "Arvindeva Wibisono",
      "userId": "16350606526935612421"
     },
     "user_tz": -120
    },
    "id": "meoic2nxkXFL"
   },
   "outputs": [],
   "source": [
    "# set the emotion/sentiment as our target\n",
    "target = df['stars']"
   ]
  },
  {
   "cell_type": "code",
   "execution_count": 9,
   "metadata": {
    "colab": {
     "base_uri": "https://localhost:8080/"
    },
    "executionInfo": {
     "elapsed": 14,
     "status": "ok",
     "timestamp": 1689256683937,
     "user": {
      "displayName": "Arvindeva Wibisono",
      "userId": "16350606526935612421"
     },
     "user_tz": -120
    },
    "id": "JxKk8DCrkZl4",
    "outputId": "d8cfe13f-b8dd-4ded-860b-62a2b77b48eb"
   },
   "outputs": [
    {
     "data": {
      "text/plain": [
       "stars         \n",
       "1      344103     1\n",
       "       3495320    1\n",
       "       3500592    1\n",
       "       3976123    1\n",
       "       796941     1\n",
       "                 ..\n",
       "5      1597611    5\n",
       "       35945      5\n",
       "       716138     5\n",
       "       3190993    5\n",
       "       767765     5\n",
       "Name: stars, Length: 12500, dtype: int64"
      ]
     },
     "execution_count": 9,
     "metadata": {},
     "output_type": "execute_result"
    }
   ],
   "source": [
    "target"
   ]
  },
  {
   "cell_type": "code",
   "execution_count": 10,
   "metadata": {
    "executionInfo": {
     "elapsed": 13,
     "status": "ok",
     "timestamp": 1689256683937,
     "user": {
      "displayName": "Arvindeva Wibisono",
      "userId": "16350606526935612421"
     },
     "user_tz": -120
    },
    "id": "3fqCjWX6kggS"
   },
   "outputs": [],
   "source": [
    "# use one hot encoding since our target is categorical\n",
    "y = pd.get_dummies(target).values\n",
    "#y = target\n"
   ]
  },
  {
   "cell_type": "code",
   "execution_count": 11,
   "metadata": {
    "colab": {
     "base_uri": "https://localhost:8080/"
    },
    "executionInfo": {
     "elapsed": 13,
     "status": "ok",
     "timestamp": 1689256683938,
     "user": {
      "displayName": "Arvindeva Wibisono",
      "userId": "16350606526935612421"
     },
     "user_tz": -120
    },
    "id": "13A-9XN-kifb",
    "outputId": "625c45d9-65d8-425a-91e4-8ffeee2922f6"
   },
   "outputs": [
    {
     "data": {
      "text/plain": [
       "array([[1, 0, 0, 0, 0],\n",
       "       [1, 0, 0, 0, 0],\n",
       "       [1, 0, 0, 0, 0],\n",
       "       ...,\n",
       "       [0, 0, 0, 0, 1],\n",
       "       [0, 0, 0, 0, 1],\n",
       "       [0, 0, 0, 0, 1]], dtype=uint8)"
      ]
     },
     "execution_count": 11,
     "metadata": {},
     "output_type": "execute_result"
    }
   ],
   "source": [
    "y"
   ]
  },
  {
   "cell_type": "code",
   "execution_count": 12,
   "metadata": {
    "executionInfo": {
     "elapsed": 2208,
     "status": "ok",
     "timestamp": 1689256686133,
     "user": {
      "displayName": "Arvindeva Wibisono",
      "userId": "16350606526935612421"
     },
     "user_tz": -120
    },
    "id": "gA0Ap2wVkjpM"
   },
   "outputs": [],
   "source": [
    "# use keras to create a Tokenizer object\n",
    "tokenizer = text.Tokenizer(num_words=40000)  # limit to the num_words most important ones\n",
    "tokenizer.fit_on_texts(list(df['text']))\n",
    "tokenized_texts = tokenizer.texts_to_sequences(df['text'])\n",
    "X = pad_sequences(tokenized_texts, maxlen=200)"
   ]
  },
  {
   "cell_type": "code",
   "execution_count": 13,
   "metadata": {
    "colab": {
     "base_uri": "https://localhost:8080/"
    },
    "executionInfo": {
     "elapsed": 3,
     "status": "ok",
     "timestamp": 1689256686134,
     "user": {
      "displayName": "Arvindeva Wibisono",
      "userId": "16350606526935612421"
     },
     "user_tz": -120
    },
    "id": "OJ52Se5PkmZh",
    "outputId": "e2c0e6ef-143e-4754-ff64-be55ec884360"
   },
   "outputs": [
    {
     "data": {
      "text/plain": [
       "array([[    0,     0,     0, ...,     3,  9139, 16819],\n",
       "       [   67,   209,   144, ...,  1302,  3053,  3578],\n",
       "       [   12,   517,     7, ...,    52,  1815,  9140],\n",
       "       ...,\n",
       "       [    0,     0,     0, ...,   232,   235,  3131],\n",
       "       [    0,     0,     0, ...,     5,   152,  1745],\n",
       "       [    0,     0,     0, ...,   685,     2,   156]], dtype=int32)"
      ]
     },
     "execution_count": 13,
     "metadata": {},
     "output_type": "execute_result"
    }
   ],
   "source": [
    "X"
   ]
  },
  {
   "cell_type": "code",
   "execution_count": 14,
   "metadata": {
    "colab": {
     "base_uri": "https://localhost:8080/"
    },
    "executionInfo": {
     "elapsed": 4494,
     "status": "ok",
     "timestamp": 1689256690626,
     "user": {
      "displayName": "Arvindeva Wibisono",
      "userId": "16350606526935612421"
     },
     "user_tz": -120
    },
    "id": "XjDAbUVIkna4",
    "outputId": "28b4f4b6-6f23-48b9-d442-5d8591834669"
   },
   "outputs": [
    {
     "name": "stdout",
     "output_type": "stream",
     "text": [
      "Model: \"sequential\"\n",
      "_________________________________________________________________\n",
      " Layer (type)                Output Shape              Param #   \n",
      "=================================================================\n",
      " embedding (Embedding)       (None, None, 128)         4334336   \n",
      "                                                                 \n",
      " bidirectional (Bidirectiona  (None, None, 256)        264192    \n",
      " l)                                                              \n",
      "                                                                 \n",
      " lstm (LSTM)                 (None, None, 128)         197120    \n",
      "                                                                 \n",
      " global_max_pooling1d (Globa  (None, 128)              0         \n",
      " lMaxPooling1D)                                                  \n",
      "                                                                 \n",
      " dropout (Dropout)           (None, 128)               0         \n",
      "                                                                 \n",
      " dense (Dense)               (None, 50)                6450      \n",
      "                                                                 \n",
      " dropout_1 (Dropout)         (None, 50)                0         \n",
      "                                                                 \n",
      " dense_1 (Dense)             (None, 50)                2550      \n",
      "                                                                 \n",
      " dense_2 (Dense)             (None, 5)                 255       \n",
      "                                                                 \n",
      "=================================================================\n",
      "Total params: 4,804,903\n",
      "Trainable params: 4,804,903\n",
      "Non-trainable params: 0\n",
      "_________________________________________________________________\n"
     ]
    }
   ],
   "source": [
    "from sklearn.model_selection import train_test_split\n",
    "\n",
    "X_train, X_test, y_train, y_test = train_test_split(X, y, test_size=0.2)\n",
    "\n",
    "# create my NN model\n",
    "model = Sequential()\n",
    "\n",
    "embedding_size = 128\n",
    "model.add(Embedding(len(total_vocabulary), embedding_size))\n",
    "model.add(Bidirectional(CuDNNLSTM(128, return_sequences=True)))\n",
    "model.add(LSTM(128, return_sequences=True))\n",
    "model.add(GlobalMaxPool1D())\n",
    "model.add(Dropout(0.5))\n",
    "model.add(Dense(50, activation='relu'))\n",
    "model.add(Dropout(0.5))\n",
    "model.add(Dense(50, activation='relu'))\n",
    "model.add(Dense(5, activation='softmax'))  # use 5 because we have 5 categories\n",
    "opt = optimizers.Adam(learning_rate=0.0025)\n",
    "model.compile(loss='categorical_crossentropy',\n",
    "              optimizer=opt,\n",
    "              metrics=['accuracy'])\n",
    "model.summary() # check the shape"
   ]
  },
  {
   "cell_type": "code",
   "execution_count": 15,
   "metadata": {
    "colab": {
     "base_uri": "https://localhost:8080/"
    },
    "executionInfo": {
     "elapsed": 82346,
     "status": "ok",
     "timestamp": 1689256772968,
     "user": {
      "displayName": "Arvindeva Wibisono",
      "userId": "16350606526935612421"
     },
     "user_tz": -120
    },
    "id": "PNCm-CNTkry2",
    "outputId": "f380793c-361d-4e23-a22f-65c8d71ae38a"
   },
   "outputs": [
    {
     "name": "stdout",
     "output_type": "stream",
     "text": [
      "Epoch 1/20\n",
      "141/141 [==============================] - 13s 31ms/step - loss: 1.5586 - accuracy: 0.2551 - val_loss: 1.3309 - val_accuracy: 0.3660\n",
      "Epoch 2/20\n",
      "141/141 [==============================] - 4s 25ms/step - loss: 1.2713 - accuracy: 0.4031 - val_loss: 1.1878 - val_accuracy: 0.4530\n",
      "Epoch 3/20\n",
      "141/141 [==============================] - 4s 26ms/step - loss: 1.0735 - accuracy: 0.4832 - val_loss: 1.1745 - val_accuracy: 0.4780\n",
      "Epoch 4/20\n",
      "141/141 [==============================] - 4s 25ms/step - loss: 0.9232 - accuracy: 0.5696 - val_loss: 1.0945 - val_accuracy: 0.4910\n",
      "Epoch 5/20\n",
      "141/141 [==============================] - 4s 25ms/step - loss: 0.7723 - accuracy: 0.6538 - val_loss: 0.9138 - val_accuracy: 0.5070\n",
      "Epoch 6/20\n",
      "141/141 [==============================] - 4s 26ms/step - loss: 0.6583 - accuracy: 0.7222 - val_loss: 0.7926 - val_accuracy: 0.5360\n",
      "Epoch 7/20\n",
      "141/141 [==============================] - 4s 26ms/step - loss: 0.6435 - accuracy: 0.7353 - val_loss: 0.7324 - val_accuracy: 0.5680\n",
      "Epoch 8/20\n",
      "141/141 [==============================] - 4s 26ms/step - loss: 0.635 - accuracy: 0.7271 - val_loss: 0.7294 - val_accuracy: 0.5830\n",
      "Epoch 9/20\n",
      "141/141 [==============================] - 4s 26ms/step - loss: 0.6546 - accuracy: 0.7116 - val_loss: 0.7184 - val_accuracy: 0.5940\n",
      "Epoch 10/20\n",
      "141/141 [==============================] - 4s 26ms/step - loss: 0.6827 - accuracy: 0.7320 - val_loss: 0.7126 - val_accuracy: 0.6090\n",
      "Epoch 11/20\n",
      "141/141 [==============================] - 4s 26ms/step - loss: 0.6201 - accuracy: 0.7263 - val_loss: 0.7203 - val_accuracy: 0.61010\n",
      "Epoch 12/20\n",
      "141/141 [==============================] - 4s 26ms/step - loss: 0.6905 - accuracy: 0.7353 - val_loss: 0.7236 - val_accuracy: 0.6330\n",
      "Epoch 13/20\n",
      "141/141 [==============================] - 4s 26ms/step - loss: 0.6795 - accuracy: 0.7288 - val_loss: 0.7169 - val_accuracy: 0.6210\n",
      "Epoch 14/20\n",
      "141/141 [==============================] - 4s 26ms/step - loss: 0.6578 - accuracy: 0.7104 - val_loss: 0.7259 - val_accuracy: 0.6390\n",
      "Epoch 15/20\n",
      "141/141 [==============================] - 4s 26ms/step - loss: 0.6409 - accuracy: 0.6943 - val_loss: 0.7059 - val_accuracy: 0.6400\n",
      "Epoch 16/20\n",
      "141/141 [==============================] - 4s 26ms/step - loss: 0.6232 - accuracy: 0.7204 - val_loss: 0.7362 - val_accuracy: 0.6390\n",
      "Epoch 17/20\n",
      "141/141 [==============================] - 4s 26ms/step - loss: 0.6967 - accuracy: 0.7101 - val_loss: 0.7220 - val_accuracy: 0.6210\n",
      "Epoch 18/20\n",
      "141/141 [==============================] - 4s 26ms/step - loss: 0.6095 - accuracy: 0.7038 - val_loss: 0.7251 - val_accuracy: 0.6190\n",
      "Epoch 19/20\n",
      "141/141 [==============================] - 4s 26ms/step - loss: 0.6932 - accuracy: 0.6996 - val_loss: 0.7158 - val_accuracy: 0.6300\n",
      "Epoch 20/20\n",
      "141/141 [==============================] - 4s 26ms/step - loss: 0.6744 - accuracy: 0.7089 - val_loss: 0.7246 - val_accuracy: 0.61920\n"
     ]
    },
    {
     "data": {
      "text/plain": [
       "<keras.callbacks.History at 0x785b98147640>"
      ]
     },
     "execution_count": 15,
     "metadata": {},
     "output_type": "execute_result"
    }
   ],
   "source": [
    "model.fit(X_train, y_train, epochs=20, batch_size=64, validation_split=0.1)"
   ]
  },
  {
   "cell_type": "code",
   "execution_count": 16,
   "metadata": {
    "colab": {
     "base_uri": "https://localhost:8080/"
    },
    "executionInfo": {
     "elapsed": 1913,
     "status": "ok",
     "timestamp": 1689256774872,
     "user": {
      "displayName": "Arvindeva Wibisono",
      "userId": "16350606526935612421"
     },
     "user_tz": -120
    },
    "id": "l7ATc_ZnkuO-",
    "outputId": "db073267-3381-4c57-cf6e-01515000f59b"
   },
   "outputs": [
    {
     "name": "stdout",
     "output_type": "stream",
     "text": [
      "79/79 [==============================] - 1s 9ms/step\n"
     ]
    }
   ],
   "source": [
    "from sklearn.metrics import classification_report,accuracy_score\n",
    "y_pred = model.predict(X_test) # get our predictions\n",
    "y_pred = np.argmax(y_pred, axis=1)\n",
    "y_test = np.argmax(y_test, axis=1)\n",
    "acc = accuracy_score(y_test, y_pred)"
   ]
  },
  {
   "cell_type": "code",
   "execution_count": 17,
   "metadata": {
    "colab": {
     "base_uri": "https://localhost:8080/"
    },
    "executionInfo": {
     "elapsed": 6,
     "status": "ok",
     "timestamp": 1689256774873,
     "user": {
      "displayName": "Arvindeva Wibisono",
      "userId": "16350606526935612421"
     },
     "user_tz": -120
    },
    "id": "ZWs5EpxhnEsM",
    "outputId": "e0726ac7-84b1-4044-834b-c5433708aa98"
   },
   "outputs": [
    {
     "name": "stdout",
     "output_type": "stream",
     "text": [
      "accuracy: 0.636\n"
     ]
    }
   ],
   "source": [
    "print(f\"accuracy: {acc}\")"
   ]
  },
  {
   "cell_type": "code",
   "execution_count": 18,
   "metadata": {
    "colab": {
     "base_uri": "https://localhost:8080/"
    },
    "executionInfo": {
     "elapsed": 6,
     "status": "ok",
     "timestamp": 1689256774874,
     "user": {
      "displayName": "Arvindeva Wibisono",
      "userId": "16350606526935612421"
     },
     "user_tz": -120
    },
    "id": "Vpl382dpnFlp",
    "outputId": "1200a9ca-b061-4cb6-b911-8e08759276cc"
   },
   "outputs": [
    {
     "name": "stdout",
     "output_type": "stream",
     "text": [
      "rmse: 0.6752026804976302\n"
     ]
    }
   ],
   "source": [
    "from sklearn.metrics import mean_squared_error\n",
    "\n",
    "rmse = mean_squared_error(y_test, y_pred, squared=False)\n",
    "print(\"rmse:\", rmse)"
   ]
  },
  {
   "cell_type": "code",
   "execution_count": 19,
   "metadata": {
    "colab": {
     "base_uri": "https://localhost:8080/"
    },
    "executionInfo": {
     "elapsed": 5,
     "status": "ok",
     "timestamp": 1689256774874,
     "user": {
      "displayName": "Arvindeva Wibisono",
      "userId": "16350606526935612421"
     },
     "user_tz": -120
    },
    "id": "pyu0HFVHiKJV",
    "outputId": "fcd1ff23-e12f-41c3-a107-e956325e57fc"
   },
   "outputs": [
    {
     "name": "stdout",
     "output_type": "stream",
     "text": [
      "mae: 0.4248\n"
     ]
    }
   ],
   "source": [
    "from sklearn.metrics import mean_absolute_error\n",
    "\n",
    "mae = mean_absolute_error(y_test, y_pred)\n",
    "print(\"mae:\", mae)"
   ]
  },
  {
   "cell_type": "code",
   "execution_count": null,
   "metadata": {},
   "outputs": [],
   "source": []
  }
 ],
 "metadata": {
  "accelerator": "GPU",
  "colab": {
   "authorship_tag": "ABX9TyMrOTW7nicyvtteD8F1DCvK",
   "gpuType": "V100",
   "machine_shape": "hm",
   "provenance": [],
   "toc_visible": true
  },
  "kernelspec": {
   "display_name": "Python 3 (ipykernel)",
   "language": "python",
   "name": "python3"
  },
  "language_info": {
   "codemirror_mode": {
    "name": "ipython",
    "version": 3
   },
   "file_extension": ".py",
   "mimetype": "text/x-python",
   "name": "python",
   "nbconvert_exporter": "python",
   "pygments_lexer": "ipython3",
   "version": "3.9.16"
  }
 },
 "nbformat": 4,
 "nbformat_minor": 1
}
