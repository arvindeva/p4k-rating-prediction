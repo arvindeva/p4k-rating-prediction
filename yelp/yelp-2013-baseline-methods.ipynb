{
 "cells": [
  {
   "cell_type": "code",
   "execution_count": 1,
   "id": "8c195c06",
   "metadata": {},
   "outputs": [],
   "source": [
    "import sys, os, re, json\n",
    "import nltk\n",
    "import numpy as np\n",
    "import pandas as pd\n",
    "import matplotlib.pyplot as plt\n",
    "import seaborn as sn\n",
    "from collections import defaultdict, Counter\n",
    "from typing import List, Tuple, Dict"
   ]
  },
  {
   "cell_type": "code",
   "execution_count": 2,
   "id": "1542b80b",
   "metadata": {},
   "outputs": [
    {
     "name": "stderr",
     "output_type": "stream",
     "text": [
      "[nltk_data] Downloading package stopwords to C:\\Users\\Redux\n",
      "[nltk_data]     Gamer\\AppData\\Roaming\\nltk_data...\n",
      "[nltk_data]   Package stopwords is already up-to-date!\n",
      "[nltk_data] Downloading package punkt to C:\\Users\\Redux\n",
      "[nltk_data]     Gamer\\AppData\\Roaming\\nltk_data...\n",
      "[nltk_data]   Package punkt is already up-to-date!\n",
      "[nltk_data] Downloading package wordnet to C:\\Users\\Redux\n",
      "[nltk_data]     Gamer\\AppData\\Roaming\\nltk_data...\n",
      "[nltk_data]   Package wordnet is already up-to-date!\n"
     ]
    },
    {
     "data": {
      "text/plain": [
       "True"
      ]
     },
     "execution_count": 2,
     "metadata": {},
     "output_type": "execute_result"
    }
   ],
   "source": [
    "%matplotlib inline\n",
    "nltk.download('stopwords')\n",
    "nltk.download('punkt')\n",
    "nltk.download('wordnet')"
   ]
  },
  {
   "cell_type": "code",
   "execution_count": 3,
   "id": "ba8f8d51",
   "metadata": {},
   "outputs": [],
   "source": [
    "file_business = \"yelp_academic_dataset_business.json\"\n",
    "file_review = \"yelp_academic_dataset_review.json\""
   ]
  },
  {
   "cell_type": "code",
   "execution_count": 4,
   "id": "89288cb8",
   "metadata": {},
   "outputs": [],
   "source": [
    "def get_restaurants(file_business):\n",
    "    with open(file_business, 'r',encoding='utf-8') as file:\n",
    "        restaurants = set()\n",
    "\n",
    "        for json_str in file:\n",
    "            obj = json.loads(json_str)\n",
    "            if obj[\"business_id\"] and obj[\"categories\"] \\\n",
    "            and \"restaurants\" in obj[\"categories\"].lower():\n",
    "                restaurants.add(obj[\"business_id\"])\n",
    "\n",
    "    return restaurants"
   ]
  },
  {
   "cell_type": "code",
   "execution_count": 5,
   "id": "f4b945fb",
   "metadata": {},
   "outputs": [
    {
     "name": "stdout",
     "output_type": "stream",
     "text": [
      "CPU times: total: 1.23 s\n",
      "Wall time: 1.46 s\n"
     ]
    }
   ],
   "source": [
    "%time restaurants = get_restaurants(file_business)"
   ]
  },
  {
   "cell_type": "code",
   "execution_count": 6,
   "id": "e160c810",
   "metadata": {},
   "outputs": [
    {
     "name": "stdout",
     "output_type": "stream",
     "text": [
      "Number of restaurants: 52268\n"
     ]
    }
   ],
   "source": [
    "print(\"Number of restaurants:\", len(restaurants))"
   ]
  },
  {
   "cell_type": "code",
   "execution_count": 7,
   "id": "19704e1b",
   "metadata": {},
   "outputs": [],
   "source": [
    "def get_reviews(file_review):\n",
    "    with open(file_review, 'r',encoding='utf-8') as file:\n",
    "        text_list = []\n",
    "        stars_list = []\n",
    "\n",
    "        for index, json_str in enumerate(file):\n",
    "            obj = json.loads(json_str)\n",
    "            if obj[\"business_id\"] and obj[\"business_id\"] in restaurants:\n",
    "                if obj[\"text\"] and obj[\"stars\"]:\n",
    "                    text_list.append(obj[\"text\"])\n",
    "                    stars_list.append(int(obj[\"stars\"]))\n",
    "\n",
    "    df = pd.DataFrame.from_dict({\"text\": text_list, \"stars\": stars_list})\n",
    "    return df"
   ]
  },
  {
   "cell_type": "code",
   "execution_count": 8,
   "id": "8d91a354",
   "metadata": {},
   "outputs": [
    {
     "name": "stdout",
     "output_type": "stream",
     "text": [
      "CPU times: total: 45.5 s\n",
      "Wall time: 46.6 s\n"
     ]
    }
   ],
   "source": [
    "%time df_review = get_reviews(file_review)"
   ]
  },
  {
   "cell_type": "code",
   "execution_count": 11,
   "id": "37d07ed1",
   "metadata": {},
   "outputs": [],
   "source": [
    "df_review = df_review.sample(500000)"
   ]
  },
  {
   "cell_type": "code",
   "execution_count": 12,
   "id": "eb4ea6ff",
   "metadata": {},
   "outputs": [
    {
     "data": {
      "text/plain": [
       "5    220023\n",
       "4    119591\n",
       "1     60195\n",
       "3     57349\n",
       "2     42842\n",
       "Name: stars, dtype: int64"
      ]
     },
     "execution_count": 12,
     "metadata": {},
     "output_type": "execute_result"
    }
   ],
   "source": [
    "df_review[\"stars\"].value_counts(normalize=False)"
   ]
  },
  {
   "cell_type": "code",
   "execution_count": 13,
   "id": "30b0cac0",
   "metadata": {},
   "outputs": [],
   "source": [
    "def plot_labels(df, title=None):\n",
    "    ds_labels = df[\"stars\"].value_counts(normalize=True)\n",
    "    ds_labels.sort_index(inplace=True)\n",
    "    plt.figure(figsize=(4,3))\n",
    "    ax = ds_labels.plot(kind=\"bar\")\n",
    "    ax.set_xlabel(\"Stars\")\n",
    "    ax.set_ylabel(\"Ratio\")\n",
    "    if title is not None:\n",
    "        plt.savefig(title + \".eps\")\n",
    "    plt.show()"
   ]
  },
  {
   "cell_type": "code",
   "execution_count": 15,
   "id": "f0c67412",
   "metadata": {},
   "outputs": [],
   "source": [
    "from sklearn.model_selection import train_test_split\n",
    "\n",
    "df_train_raw, df_test = train_test_split(df_review, test_size=5000, \n",
    "                                         random_state=42, shuffle=True)\n",
    "df_train_raw, df_dev = train_test_split(df_train_raw, test_size=5000,\n",
    "                                        random_state=42, shuffle=True)"
   ]
  },
  {
   "cell_type": "code",
   "execution_count": 17,
   "id": "46fa85d8",
   "metadata": {},
   "outputs": [],
   "source": [
    "from sklearn.utils import resample\n",
    "\n",
    "def undersample(df, group_size=5000):\n",
    "    dfs = []\n",
    "\n",
    "    for label in df[\"stars\"].value_counts().keys():\n",
    "        df_group = df[df[\"stars\"] == label]\n",
    "        df_group_undersampled = resample(df_group, \n",
    "                                     replace=False, \n",
    "                                     n_samples=group_size, \n",
    "                                     random_state=0)\n",
    "        dfs.append(df_group_undersampled)\n",
    "\n",
    "    return pd.concat(dfs).sample(frac=1, random_state=0)"
   ]
  },
  {
   "cell_type": "code",
   "execution_count": 18,
   "id": "77366efb",
   "metadata": {},
   "outputs": [],
   "source": [
    "df_train = undersample(df_train_raw, 1250)"
   ]
  },
  {
   "cell_type": "code",
   "execution_count": 19,
   "id": "33c133ef",
   "metadata": {},
   "outputs": [],
   "source": [
    "num_review = df_review.shape[0]\n",
    "num_train = df_train.shape[0]\n",
    "num_dev = df_dev.shape[0]\n",
    "num_test = df_test.shape[0]"
   ]
  },
  {
   "cell_type": "code",
   "execution_count": 23,
   "id": "59634c0a",
   "metadata": {},
   "outputs": [],
   "source": [
    "df_train[\"labels\"] = df_train[\"stars\"] - 1\n",
    "df_dev[\"labels\"] = df_dev[\"stars\"] - 1\n",
    "df_test[\"labels\"] = df_test[\"stars\"] - 1"
   ]
  },
  {
   "cell_type": "code",
   "execution_count": 25,
   "id": "0a9604bf",
   "metadata": {},
   "outputs": [],
   "source": [
    "from nltk.tokenize import word_tokenize"
   ]
  },
  {
   "cell_type": "code",
   "execution_count": null,
   "id": "cb6c43b0",
   "metadata": {},
   "outputs": [],
   "source": [
    "ds_temp = df_train[\"text\"].iloc[:10].map(lambda text: re.sub(r\"[^a-zA-Z0-9' ]\", ' ', text)).map(lambda text: text.split())"
   ]
  },
  {
   "cell_type": "code",
   "execution_count": 27,
   "id": "bdcd67c9",
   "metadata": {},
   "outputs": [
    {
     "name": "stdout",
     "output_type": "stream",
     "text": [
      "CPU times: total: 359 ms\n",
      "Wall time: 400 ms\n"
     ]
    }
   ],
   "source": [
    "%time df_train[\"tokens\"] = df_train[\"text\"].map(lambda text: re.sub(r\"[^a-zA-Z0-9' ]\", ' ', text)).map(lambda text: text.split())"
   ]
  },
  {
   "cell_type": "code",
   "execution_count": null,
   "id": "71193356",
   "metadata": {},
   "outputs": [],
   "source": [
    "df_train[\"num_tokens\"] = df_train[\"tokens\"].map(len)\n",
    "ax = df_train[\"num_tokens\"].hist(bins=20, \n",
    "                                 figsize=(4,3),\n",
    "                                 weights=np.ones(num_train)/num_train)\n",
    "ax.set_xlabel(\"Number of Tokens\")\n",
    "ax.set_ylabel(\"Ratio\")"
   ]
  },
  {
   "cell_type": "code",
   "execution_count": 30,
   "id": "11f5f1fd",
   "metadata": {},
   "outputs": [],
   "source": [
    "df_train.drop(columns=[\"tokens\", \"num_tokens\"], inplace=True)"
   ]
  },
  {
   "cell_type": "code",
   "execution_count": 31,
   "id": "a13d00c3",
   "metadata": {},
   "outputs": [
    {
     "name": "stdout",
     "output_type": "stream",
     "text": [
      "CPU times: total: 5.92 s\n",
      "Wall time: 6.06 s\n"
     ]
    }
   ],
   "source": [
    "%time df_review[\"num_tokens\"] = df_review[\"text\"].\\\n",
    "map(lambda text: re.sub(r\"[^a-zA-Z0-9' ]\", ' ', text)).\\\n",
    "map(lambda text: len(text.split()))"
   ]
  },
  {
   "cell_type": "code",
   "execution_count": 33,
   "id": "bb574912",
   "metadata": {},
   "outputs": [
    {
     "name": "stdout",
     "output_type": "stream",
     "text": [
      "0.750244\n",
      "0.937732\n"
     ]
    }
   ],
   "source": [
    "print(len(df_review[df_review[\"num_tokens\"] <= 128]) / len(df_review[\"num_tokens\"]))\n",
    "print(len(df_review[df_review[\"num_tokens\"] <= 256]) / len(df_review[\"num_tokens\"]))"
   ]
  },
  {
   "cell_type": "code",
   "execution_count": 34,
   "id": "94ffd988",
   "metadata": {},
   "outputs": [],
   "source": [
    "df_review.drop(columns=[\"num_tokens\"], inplace=True)"
   ]
  },
  {
   "cell_type": "code",
   "execution_count": 35,
   "id": "1538aea3",
   "metadata": {},
   "outputs": [],
   "source": [
    "from sklearn.feature_extraction.text import CountVectorizer, TfidfVectorizer\n",
    "\n",
    "def extract_features(df_train, df_dev, df_test):\n",
    "    vectorizer = TfidfVectorizer(analyzer='word', \n",
    "                                 stop_words='english',\n",
    "                                 ngram_range=(1, 2),\n",
    "                                 lowercase=True,\n",
    "                                 min_df=5,\n",
    "                                 binary=False)\n",
    "    X_train = vectorizer.fit_transform(df_train[\"text\"])\n",
    "    X_dev = vectorizer.transform(df_dev[\"text\"])\n",
    "    X_test = vectorizer.transform(df_test[\"text\"])\n",
    "    y_train = df_train[\"stars\"].tolist()\n",
    "    y_dev = df_dev[\"stars\"].tolist()\n",
    "    y_test = df_test[\"stars\"].tolist()\n",
    "  \n",
    "    return X_train, X_dev, X_test, y_train, y_dev, y_test"
   ]
  },
  {
   "cell_type": "code",
   "execution_count": 36,
   "id": "247a24a9",
   "metadata": {},
   "outputs": [
    {
     "name": "stdout",
     "output_type": "stream",
     "text": [
      "CPU times: total: 4.19 s\n",
      "Wall time: 4.33 s\n"
     ]
    }
   ],
   "source": [
    "%time X_train, X_dev, X_test, y_train, y_dev, y_test = extract_features(df_train, df_dev, df_test)"
   ]
  },
  {
   "cell_type": "code",
   "execution_count": 39,
   "id": "b9a1c064",
   "metadata": {},
   "outputs": [],
   "source": [
    "def evaluate_model_Xy(model, X, y, y_pred=None, label=\"Training\", model_name=\"model\"):\n",
    "    if y_pred is None:\n",
    "        y_pred = model.predict(X)\n",
    "\n",
    "    print(label + ' Set')\n",
    "    print(\"Accuracy:\", accuracy_score(y, y_pred))\n",
    "    print()\n",
    "\n",
    "    print(classification_report(y, y_pred, digits=4))\n",
    "\n",
    "    print()\n",
    "    \n",
    "\n",
    "def evaluate_model(model, model_name=\"model\",\n",
    "                   y_train_pred=None, y_dev_pred=None, y_test_pred=None):\n",
    "    evaluate_model_Xy(model, X_dev, y_dev, label=\"Validation\", model_name=model_name)\n",
    "    evaluate_model_Xy(model, X_test, y_test, label=\"Testing\", model_name=model_name)"
   ]
  },
  {
   "cell_type": "code",
   "execution_count": 40,
   "id": "7bd121e7",
   "metadata": {},
   "outputs": [],
   "source": [
    "from sklearn.metrics import accuracy_score, precision_score, recall_score\n",
    "from sklearn.metrics import f1_score, mean_squared_error\n",
    "from sklearn.metrics import classification_report"
   ]
  },
  {
   "cell_type": "code",
   "execution_count": 51,
   "id": "3755377a",
   "metadata": {},
   "outputs": [],
   "source": [
    "from sklearn.ensemble import RandomForestClassifier\n",
    "\n",
    "clf_rf = RandomForestClassifier(n_estimators=500,\n",
    "                                criterion=\"gini\",\n",
    "                                max_depth=None, \n",
    "                                min_samples_split=2,\n",
    "                                min_samples_leaf=10, \n",
    "                                max_features=\"auto\", \n",
    "                                n_jobs=-1,\n",
    "                                verbose=1,\n",
    "                                random_state=0,\n",
    "                                class_weight='balanced')"
   ]
  },
  {
   "cell_type": "code",
   "execution_count": 52,
   "id": "e3f7a4c4",
   "metadata": {
    "scrolled": false
   },
   "outputs": [
    {
     "name": "stderr",
     "output_type": "stream",
     "text": [
      "c:\\anaconda3\\envs\\p4k\\lib\\site-packages\\sklearn\\ensemble\\_forest.py:424: FutureWarning: `max_features='auto'` has been deprecated in 1.1 and will be removed in 1.3. To keep the past behaviour, explicitly set `max_features='sqrt'` or remove this parameter as it is also the default value for RandomForestClassifiers and ExtraTreesClassifiers.\n",
      "  warn(\n",
      "[Parallel(n_jobs=-1)]: Using backend ThreadingBackend with 16 concurrent workers.\n",
      "[Parallel(n_jobs=-1)]: Done  18 tasks      | elapsed:    0.2s\n",
      "[Parallel(n_jobs=-1)]: Done 168 tasks      | elapsed:    1.3s\n",
      "[Parallel(n_jobs=-1)]: Done 418 tasks      | elapsed:    3.1s\n",
      "[Parallel(n_jobs=-1)]: Done 500 out of 500 | elapsed:    3.8s finished\n"
     ]
    },
    {
     "data": {
      "text/html": [
       "<style>#sk-container-id-5 {color: black;background-color: white;}#sk-container-id-5 pre{padding: 0;}#sk-container-id-5 div.sk-toggleable {background-color: white;}#sk-container-id-5 label.sk-toggleable__label {cursor: pointer;display: block;width: 100%;margin-bottom: 0;padding: 0.3em;box-sizing: border-box;text-align: center;}#sk-container-id-5 label.sk-toggleable__label-arrow:before {content: \"▸\";float: left;margin-right: 0.25em;color: #696969;}#sk-container-id-5 label.sk-toggleable__label-arrow:hover:before {color: black;}#sk-container-id-5 div.sk-estimator:hover label.sk-toggleable__label-arrow:before {color: black;}#sk-container-id-5 div.sk-toggleable__content {max-height: 0;max-width: 0;overflow: hidden;text-align: left;background-color: #f0f8ff;}#sk-container-id-5 div.sk-toggleable__content pre {margin: 0.2em;color: black;border-radius: 0.25em;background-color: #f0f8ff;}#sk-container-id-5 input.sk-toggleable__control:checked~div.sk-toggleable__content {max-height: 200px;max-width: 100%;overflow: auto;}#sk-container-id-5 input.sk-toggleable__control:checked~label.sk-toggleable__label-arrow:before {content: \"▾\";}#sk-container-id-5 div.sk-estimator input.sk-toggleable__control:checked~label.sk-toggleable__label {background-color: #d4ebff;}#sk-container-id-5 div.sk-label input.sk-toggleable__control:checked~label.sk-toggleable__label {background-color: #d4ebff;}#sk-container-id-5 input.sk-hidden--visually {border: 0;clip: rect(1px 1px 1px 1px);clip: rect(1px, 1px, 1px, 1px);height: 1px;margin: -1px;overflow: hidden;padding: 0;position: absolute;width: 1px;}#sk-container-id-5 div.sk-estimator {font-family: monospace;background-color: #f0f8ff;border: 1px dotted black;border-radius: 0.25em;box-sizing: border-box;margin-bottom: 0.5em;}#sk-container-id-5 div.sk-estimator:hover {background-color: #d4ebff;}#sk-container-id-5 div.sk-parallel-item::after {content: \"\";width: 100%;border-bottom: 1px solid gray;flex-grow: 1;}#sk-container-id-5 div.sk-label:hover label.sk-toggleable__label {background-color: #d4ebff;}#sk-container-id-5 div.sk-serial::before {content: \"\";position: absolute;border-left: 1px solid gray;box-sizing: border-box;top: 0;bottom: 0;left: 50%;z-index: 0;}#sk-container-id-5 div.sk-serial {display: flex;flex-direction: column;align-items: center;background-color: white;padding-right: 0.2em;padding-left: 0.2em;position: relative;}#sk-container-id-5 div.sk-item {position: relative;z-index: 1;}#sk-container-id-5 div.sk-parallel {display: flex;align-items: stretch;justify-content: center;background-color: white;position: relative;}#sk-container-id-5 div.sk-item::before, #sk-container-id-5 div.sk-parallel-item::before {content: \"\";position: absolute;border-left: 1px solid gray;box-sizing: border-box;top: 0;bottom: 0;left: 50%;z-index: -1;}#sk-container-id-5 div.sk-parallel-item {display: flex;flex-direction: column;z-index: 1;position: relative;background-color: white;}#sk-container-id-5 div.sk-parallel-item:first-child::after {align-self: flex-end;width: 50%;}#sk-container-id-5 div.sk-parallel-item:last-child::after {align-self: flex-start;width: 50%;}#sk-container-id-5 div.sk-parallel-item:only-child::after {width: 0;}#sk-container-id-5 div.sk-dashed-wrapped {border: 1px dashed gray;margin: 0 0.4em 0.5em 0.4em;box-sizing: border-box;padding-bottom: 0.4em;background-color: white;}#sk-container-id-5 div.sk-label label {font-family: monospace;font-weight: bold;display: inline-block;line-height: 1.2em;}#sk-container-id-5 div.sk-label-container {text-align: center;}#sk-container-id-5 div.sk-container {/* jupyter's `normalize.less` sets `[hidden] { display: none; }` but bootstrap.min.css set `[hidden] { display: none !important; }` so we also need the `!important` here to be able to override the default hidden behavior on the sphinx rendered scikit-learn.org. See: https://github.com/scikit-learn/scikit-learn/issues/21755 */display: inline-block !important;position: relative;}#sk-container-id-5 div.sk-text-repr-fallback {display: none;}</style><div id=\"sk-container-id-5\" class=\"sk-top-container\"><div class=\"sk-text-repr-fallback\"><pre>RandomForestClassifier(class_weight=&#x27;balanced&#x27;, max_features=&#x27;auto&#x27;,\n",
       "                       min_samples_leaf=10, n_estimators=500, n_jobs=-1,\n",
       "                       random_state=0, verbose=1)</pre><b>In a Jupyter environment, please rerun this cell to show the HTML representation or trust the notebook. <br />On GitHub, the HTML representation is unable to render, please try loading this page with nbviewer.org.</b></div><div class=\"sk-container\" hidden><div class=\"sk-item\"><div class=\"sk-estimator sk-toggleable\"><input class=\"sk-toggleable__control sk-hidden--visually\" id=\"sk-estimator-id-5\" type=\"checkbox\" checked><label for=\"sk-estimator-id-5\" class=\"sk-toggleable__label sk-toggleable__label-arrow\">RandomForestClassifier</label><div class=\"sk-toggleable__content\"><pre>RandomForestClassifier(class_weight=&#x27;balanced&#x27;, max_features=&#x27;auto&#x27;,\n",
       "                       min_samples_leaf=10, n_estimators=500, n_jobs=-1,\n",
       "                       random_state=0, verbose=1)</pre></div></div></div></div></div>"
      ],
      "text/plain": [
       "RandomForestClassifier(class_weight='balanced', max_features='auto',\n",
       "                       min_samples_leaf=10, n_estimators=500, n_jobs=-1,\n",
       "                       random_state=0, verbose=1)"
      ]
     },
     "execution_count": 52,
     "metadata": {},
     "output_type": "execute_result"
    }
   ],
   "source": [
    "clf_rf.fit(X_train, y_train)"
   ]
  },
  {
   "cell_type": "code",
   "execution_count": 53,
   "id": "a58485db",
   "metadata": {},
   "outputs": [
    {
     "name": "stderr",
     "output_type": "stream",
     "text": [
      "[Parallel(n_jobs=16)]: Using backend ThreadingBackend with 16 concurrent workers.\n",
      "[Parallel(n_jobs=16)]: Done  18 tasks      | elapsed:    0.0s\n",
      "[Parallel(n_jobs=16)]: Done 168 tasks      | elapsed:    0.0s\n",
      "[Parallel(n_jobs=16)]: Done 418 tasks      | elapsed:    0.0s\n",
      "[Parallel(n_jobs=16)]: Done 500 out of 500 | elapsed:    0.1s finished\n",
      "[Parallel(n_jobs=16)]: Using backend ThreadingBackend with 16 concurrent workers.\n"
     ]
    },
    {
     "name": "stdout",
     "output_type": "stream",
     "text": [
      "Validation Set\n",
      "Accuracy: 0.545\n",
      "\n",
      "              precision    recall  f1-score   support\n",
      "\n",
      "           1     0.5747    0.7708    0.6585       250\n",
      "           2     0.3573    0.3318    0.3441       250\n",
      "           3     0.3646    0.3722    0.3683       250\n",
      "           4     0.4733    0.3447    0.3988       250\n",
      "           5     0.7237    0.7692    0.7458       250\n",
      "\n",
      "    accuracy                         0.5760      1250\n",
      "   macro avg     0.4987    0.5177    0.5031      1250\n",
      "weighted avg     0.5704    0.5820    0.5716      1250\n",
      "\n",
      "\n"
     ]
    },
    {
     "name": "stderr",
     "output_type": "stream",
     "text": [
      "[Parallel(n_jobs=16)]: Done  18 tasks      | elapsed:    0.0s\n",
      "[Parallel(n_jobs=16)]: Done 168 tasks      | elapsed:    0.0s\n",
      "[Parallel(n_jobs=16)]: Done 418 tasks      | elapsed:    0.0s\n",
      "[Parallel(n_jobs=16)]: Done 500 out of 500 | elapsed:    0.1s finished\n"
     ]
    },
    {
     "name": "stdout",
     "output_type": "stream",
     "text": [
      "Testing Set\n",
      "Accuracy: 0.5978\n",
      "\n",
      "              precision    recall  f1-score   support\n",
      "\n",
      "           1     0.5369    0.7439    0.6205       250\n",
      "           2     0.3675    0.3395    0.3329       250\n",
      "           3     0.3810    0.3905    0.3657       250\n",
      "           4     0.5108    0.3581    0.4211       250\n",
      "           5     0.7455    0.7762    0.7605       250\n",
      "\n",
      "    accuracy                         0.5451      1250\n",
      "   macro avg     0.5083    0.5316    0.5122      1250\n",
      "weighted avg     0.5914    0.5978    0.5483      1250\n",
      "\n",
      "\n"
     ]
    }
   ],
   "source": [
    "evaluate_model(clf_rf, model_name=\"rf\")"
   ]
  },
  {
   "cell_type": "code",
   "execution_count": 54,
   "id": "08b8d87d",
   "metadata": {},
   "outputs": [],
   "source": [
    "from sklearn.linear_model import SGDClassifier\n",
    "from sklearn.preprocessing import StandardScaler\n",
    "from sklearn.pipeline import make_pipeline\n",
    "\n",
    "clf_sgd = make_pipeline(StandardScaler(with_mean=False),\n",
    "                        SGDClassifier(loss='hinge',\n",
    "                                      penalty='l2',\n",
    "                                      alpha=30,\n",
    "                                      max_iter=1000, \n",
    "                                      tol=1e-3,\n",
    "                                      shuffle=True,\n",
    "                                      verbose=1,\n",
    "                                      n_jobs=-1,\n",
    "                                      random_state=0,\n",
    "                                      learning_rate='optimal',\n",
    "                                      early_stopping=True,\n",
    "                                      class_weight='balanced'))"
   ]
  },
  {
   "cell_type": "code",
   "execution_count": 55,
   "id": "39079ed5",
   "metadata": {},
   "outputs": [
    {
     "name": "stdout",
     "output_type": "stream",
     "text": [
      "-- Epoch 1-- Epoch 1\n",
      "-- Epoch 1\n",
      "\n",
      "-- Epoch 1\n",
      "-- Epoch 1\n",
      "Norm: 0.12, NNZs: 41588, Bias: -0.005242, T: 22500, Avg. loss: 0.540805\n",
      "Total training time: 0.01 seconds.\n",
      "Norm: 0.11, NNZs: 41466, Bias: -0.006059, T: 22500, Avg. loss: 0.535256\n",
      "Total training time: 0.01 seconds.\n",
      "Norm: 0.11, NNZs: 41627, Bias: 0.002244, T: 22500, Avg. loss: 0.611678\n",
      "Total training time: 0.01 seconds.\n",
      "Norm: 0.11, NNZs: 41567, Bias: -0.005366, T: 22500, Avg. loss: 0.588282\n",
      "Total training time: 0.01 seconds.\n",
      "Norm: 0.11, NNZs: 41647, Bias: -0.005802, T: 22500, Avg. loss: 0.602495\n",
      "Total training time: 0.01 seconds.\n",
      "-- Epoch 2\n",
      "-- Epoch 2\n",
      "-- Epoch 2\n",
      "-- Epoch 2\n",
      "-- Epoch 2\n",
      "Norm: 0.11, NNZs: 41535, Bias: -0.006163, T: 45000, Avg. loss: 0.501805\n",
      "Total training time: 0.02 seconds.\n",
      "Norm: 0.11, NNZs: 41663, Bias: -0.005920, T: 45000, Avg. loss: 0.564948\n",
      "Total training time: 0.02 seconds.\n",
      "Norm: 0.11, NNZs: 41648, Bias: 0.002127, T: 45000, Avg. loss: 0.572262\n",
      "Total training time: 0.02 seconds.\n",
      "Norm: 0.11, NNZs: 41618, Bias: -0.005353, T: 45000, Avg. loss: 0.505605\n",
      "Total training time: 0.02 seconds.\n",
      "Norm: 0.11, NNZs: 41607, Bias: -0.005478, T: 45000, Avg. loss: 0.552458\n",
      "Total training time: 0.02 seconds.\n",
      "-- Epoch 3\n",
      "-- Epoch 3\n",
      "-- Epoch 3\n",
      "-- Epoch 3\n",
      "-- Epoch 3\n",
      "Norm: 0.11, NNZs: 41545, Bias: -0.006224, T: 67500, Avg. loss: 0.496218\n",
      "Total training time: 0.03 seconds.\n",
      "Norm: 0.11, NNZs: 41663, Bias: -0.005988, T: 67500, Avg. loss: 0.559319\n",
      "Total training time: 0.03 seconds.\n",
      "Norm: 0.11, NNZs: 41609, Bias: -0.005543, T: 67500, Avg. loss: 0.546578\n",
      "Total training time: 0.03 seconds.\n",
      "Norm: 0.11, NNZs: 41650, Bias: 0.002059, T: 67500, Avg. loss: 0.567531\n",
      "Total training time: 0.04 seconds.\n",
      "Norm: 0.11, NNZs: 41621, Bias: -0.005417, T: 67500, Avg. loss: 0.499568\n",
      "Total training time: 0.04 seconds.\n",
      "-- Epoch 4\n",
      "-- Epoch 4\n",
      "-- Epoch 4\n",
      "-- Epoch 4\n",
      "-- Epoch 4\n",
      "Norm: 0.11, NNZs: 41663, Bias: -0.006037, T: 90000, Avg. loss: 0.556744\n",
      "Total training time: 0.05 seconds.\n",
      "Norm: 0.11, NNZs: 41551, Bias: -0.006268, T: 90000, Avg. loss: 0.494019\n",
      "Total training time: 0.04 seconds.\n",
      "-- Epoch 5\n",
      "-- Epoch 5\n",
      "Norm: 0.11, NNZs: 41650, Bias: 0.002010, T: 90000, Avg. loss: 0.564617\n",
      "Total training time: 0.05 seconds.\n",
      "Norm: 0.11, NNZs: 41621, Bias: -0.005463, T: 90000, Avg. loss: 0.497410\n",
      "Total training time: 0.05 seconds.\n",
      "-- Epoch 5\n",
      "Norm: 0.11, NNZs: 41611, Bias: -0.005590, T: 90000, Avg. loss: 0.544751\n",
      "Total training time: 0.05 seconds.\n",
      "-- Epoch 5\n",
      "Norm: 0.11, NNZs: 41664, Bias: -0.006075, T: 112500, Avg. loss: 0.555000\n",
      "Total training time: 0.06 seconds.\n",
      "Norm: 0.11, NNZs: 41551, Bias: -0.006302, T: 112500, Avg. loss: 0.492679\n",
      "Total training time: 0.05 seconds.\n",
      "-- Epoch 6\n",
      "-- Epoch 6\n",
      "Norm: 0.11, NNZs: 41650, Bias: 0.001972, T: 112500, Avg. loss: 0.563165\n",
      "Total training time: 0.06 seconds.\n",
      "-- Epoch 6\n",
      "Norm: 0.11, NNZs: 41624, Bias: -0.005499, T: 112500, Avg. loss: 0.495767\n",
      "Total training time: 0.06 seconds.\n",
      "-- Epoch 6\n",
      "Norm: 0.11, NNZs: 41664, Bias: -0.006106, T: 135000, Avg. loss: 0.553929\n",
      "Total training time: 0.07 seconds.\n",
      "Convergence after 6 epochs took 0.07 seconds\n",
      "-- Epoch 5\n",
      "Norm: 0.11, NNZs: 41650, Bias: 0.001941, T: 135000, Avg. loss: 0.562334\n",
      "Total training time: 0.07 seconds.\n",
      "Convergence after 6 epochs took 0.07 seconds\n",
      "Norm: 0.11, NNZs: 41552, Bias: -0.006329, T: 135000, Avg. loss: 0.491541\n",
      "Total training time: 0.07 seconds.\n",
      "Norm: 0.11, NNZs: 41624, Bias: -0.005528, T: 135000, Avg. loss: 0.494882\n",
      "Total training time: 0.08 seconds.\n",
      "Norm: 0.11, NNZs: 41612, Bias: -0.005626, T: 112500, Avg. loss: 0.542945\n",
      "Total training time: 0.08 seconds.\n",
      "Convergence after 6 epochs took 0.08 seconds\n",
      "Convergence after 6 epochs took 0.08 seconds\n",
      "-- Epoch 6\n",
      "Norm: 0.11, NNZs: 41612, Bias: -0.005655, T: 135000, Avg. loss: 0.541985\n",
      "Total training time: 0.09 seconds.\n",
      "Convergence after 6 epochs took 0.09 seconds\n"
     ]
    },
    {
     "name": "stderr",
     "output_type": "stream",
     "text": [
      "[Parallel(n_jobs=-1)]: Using backend ThreadingBackend with 16 concurrent workers.\n",
      "[Parallel(n_jobs=-1)]: Done   5 out of   5 | elapsed:    0.0s finished\n"
     ]
    },
    {
     "data": {
      "text/html": [
       "<style>#sk-container-id-6 {color: black;background-color: white;}#sk-container-id-6 pre{padding: 0;}#sk-container-id-6 div.sk-toggleable {background-color: white;}#sk-container-id-6 label.sk-toggleable__label {cursor: pointer;display: block;width: 100%;margin-bottom: 0;padding: 0.3em;box-sizing: border-box;text-align: center;}#sk-container-id-6 label.sk-toggleable__label-arrow:before {content: \"▸\";float: left;margin-right: 0.25em;color: #696969;}#sk-container-id-6 label.sk-toggleable__label-arrow:hover:before {color: black;}#sk-container-id-6 div.sk-estimator:hover label.sk-toggleable__label-arrow:before {color: black;}#sk-container-id-6 div.sk-toggleable__content {max-height: 0;max-width: 0;overflow: hidden;text-align: left;background-color: #f0f8ff;}#sk-container-id-6 div.sk-toggleable__content pre {margin: 0.2em;color: black;border-radius: 0.25em;background-color: #f0f8ff;}#sk-container-id-6 input.sk-toggleable__control:checked~div.sk-toggleable__content {max-height: 200px;max-width: 100%;overflow: auto;}#sk-container-id-6 input.sk-toggleable__control:checked~label.sk-toggleable__label-arrow:before {content: \"▾\";}#sk-container-id-6 div.sk-estimator input.sk-toggleable__control:checked~label.sk-toggleable__label {background-color: #d4ebff;}#sk-container-id-6 div.sk-label input.sk-toggleable__control:checked~label.sk-toggleable__label {background-color: #d4ebff;}#sk-container-id-6 input.sk-hidden--visually {border: 0;clip: rect(1px 1px 1px 1px);clip: rect(1px, 1px, 1px, 1px);height: 1px;margin: -1px;overflow: hidden;padding: 0;position: absolute;width: 1px;}#sk-container-id-6 div.sk-estimator {font-family: monospace;background-color: #f0f8ff;border: 1px dotted black;border-radius: 0.25em;box-sizing: border-box;margin-bottom: 0.5em;}#sk-container-id-6 div.sk-estimator:hover {background-color: #d4ebff;}#sk-container-id-6 div.sk-parallel-item::after {content: \"\";width: 100%;border-bottom: 1px solid gray;flex-grow: 1;}#sk-container-id-6 div.sk-label:hover label.sk-toggleable__label {background-color: #d4ebff;}#sk-container-id-6 div.sk-serial::before {content: \"\";position: absolute;border-left: 1px solid gray;box-sizing: border-box;top: 0;bottom: 0;left: 50%;z-index: 0;}#sk-container-id-6 div.sk-serial {display: flex;flex-direction: column;align-items: center;background-color: white;padding-right: 0.2em;padding-left: 0.2em;position: relative;}#sk-container-id-6 div.sk-item {position: relative;z-index: 1;}#sk-container-id-6 div.sk-parallel {display: flex;align-items: stretch;justify-content: center;background-color: white;position: relative;}#sk-container-id-6 div.sk-item::before, #sk-container-id-6 div.sk-parallel-item::before {content: \"\";position: absolute;border-left: 1px solid gray;box-sizing: border-box;top: 0;bottom: 0;left: 50%;z-index: -1;}#sk-container-id-6 div.sk-parallel-item {display: flex;flex-direction: column;z-index: 1;position: relative;background-color: white;}#sk-container-id-6 div.sk-parallel-item:first-child::after {align-self: flex-end;width: 50%;}#sk-container-id-6 div.sk-parallel-item:last-child::after {align-self: flex-start;width: 50%;}#sk-container-id-6 div.sk-parallel-item:only-child::after {width: 0;}#sk-container-id-6 div.sk-dashed-wrapped {border: 1px dashed gray;margin: 0 0.4em 0.5em 0.4em;box-sizing: border-box;padding-bottom: 0.4em;background-color: white;}#sk-container-id-6 div.sk-label label {font-family: monospace;font-weight: bold;display: inline-block;line-height: 1.2em;}#sk-container-id-6 div.sk-label-container {text-align: center;}#sk-container-id-6 div.sk-container {/* jupyter's `normalize.less` sets `[hidden] { display: none; }` but bootstrap.min.css set `[hidden] { display: none !important; }` so we also need the `!important` here to be able to override the default hidden behavior on the sphinx rendered scikit-learn.org. See: https://github.com/scikit-learn/scikit-learn/issues/21755 */display: inline-block !important;position: relative;}#sk-container-id-6 div.sk-text-repr-fallback {display: none;}</style><div id=\"sk-container-id-6\" class=\"sk-top-container\"><div class=\"sk-text-repr-fallback\"><pre>Pipeline(steps=[(&#x27;standardscaler&#x27;, StandardScaler(with_mean=False)),\n",
       "                (&#x27;sgdclassifier&#x27;,\n",
       "                 SGDClassifier(alpha=30, class_weight=&#x27;balanced&#x27;,\n",
       "                               early_stopping=True, n_jobs=-1, random_state=0,\n",
       "                               verbose=1))])</pre><b>In a Jupyter environment, please rerun this cell to show the HTML representation or trust the notebook. <br />On GitHub, the HTML representation is unable to render, please try loading this page with nbviewer.org.</b></div><div class=\"sk-container\" hidden><div class=\"sk-item sk-dashed-wrapped\"><div class=\"sk-label-container\"><div class=\"sk-label sk-toggleable\"><input class=\"sk-toggleable__control sk-hidden--visually\" id=\"sk-estimator-id-6\" type=\"checkbox\" ><label for=\"sk-estimator-id-6\" class=\"sk-toggleable__label sk-toggleable__label-arrow\">Pipeline</label><div class=\"sk-toggleable__content\"><pre>Pipeline(steps=[(&#x27;standardscaler&#x27;, StandardScaler(with_mean=False)),\n",
       "                (&#x27;sgdclassifier&#x27;,\n",
       "                 SGDClassifier(alpha=30, class_weight=&#x27;balanced&#x27;,\n",
       "                               early_stopping=True, n_jobs=-1, random_state=0,\n",
       "                               verbose=1))])</pre></div></div></div><div class=\"sk-serial\"><div class=\"sk-item\"><div class=\"sk-estimator sk-toggleable\"><input class=\"sk-toggleable__control sk-hidden--visually\" id=\"sk-estimator-id-7\" type=\"checkbox\" ><label for=\"sk-estimator-id-7\" class=\"sk-toggleable__label sk-toggleable__label-arrow\">StandardScaler</label><div class=\"sk-toggleable__content\"><pre>StandardScaler(with_mean=False)</pre></div></div></div><div class=\"sk-item\"><div class=\"sk-estimator sk-toggleable\"><input class=\"sk-toggleable__control sk-hidden--visually\" id=\"sk-estimator-id-8\" type=\"checkbox\" ><label for=\"sk-estimator-id-8\" class=\"sk-toggleable__label sk-toggleable__label-arrow\">SGDClassifier</label><div class=\"sk-toggleable__content\"><pre>SGDClassifier(alpha=30, class_weight=&#x27;balanced&#x27;, early_stopping=True, n_jobs=-1,\n",
       "              random_state=0, verbose=1)</pre></div></div></div></div></div></div></div>"
      ],
      "text/plain": [
       "Pipeline(steps=[('standardscaler', StandardScaler(with_mean=False)),\n",
       "                ('sgdclassifier',\n",
       "                 SGDClassifier(alpha=30, class_weight='balanced',\n",
       "                               early_stopping=True, n_jobs=-1, random_state=0,\n",
       "                               verbose=1))])"
      ]
     },
     "execution_count": 55,
     "metadata": {},
     "output_type": "execute_result"
    }
   ],
   "source": [
    "clf_sgd.fit(X_train, y_train)"
   ]
  },
  {
   "cell_type": "code",
   "execution_count": 56,
   "id": "15fb3531",
   "metadata": {},
   "outputs": [
    {
     "name": "stdout",
     "output_type": "stream",
     "text": [
      "Validation Set\n",
      "Accuracy: 0.5786\n",
      "\n",
      "              precision    recall  f1-score   support\n",
      "\n",
      "           1     0.5566    0.7724    0.6470       250\n",
      "           2     0.3706    0.3252    0.3464       250\n",
      "           3     0.3451    0.3391    0.3421       250\n",
      "           4     0.4587    0.4051    0.4303       250\n",
      "           5     0.7496    0.7371    0.7433       250\n",
      "\n",
      "    accuracy                         0.5786      1250\n",
      "   macro avg     0.4961    0.5158    0.5018      1250\n",
      "weighted avg     0.5748    0.5786    0.5739      1250\n",
      "\n",
      "\n",
      "Testing Set\n",
      "Accuracy: 0.6028\n",
      "\n",
      "              precision    recall  f1-score   support\n",
      "\n",
      "           1     0.5364    0.8160    0.6473       250\n",
      "           2     0.3911    0.3233    0.3540       250\n",
      "           3     0.3930    0.3763    0.3845       250\n",
      "           4     0.4844    0.4316    0.4565       250\n",
      "           5     0.7765    0.7493    0.7627       250\n",
      "\n",
      "    accuracy                         0.6028      1250\n",
      "   macro avg     0.5163    0.5393    0.5210      1250\n",
      "weighted avg     0.6023    0.6028    0.5984      1250\n",
      "\n",
      "\n"
     ]
    }
   ],
   "source": [
    "evaluate_model(clf_sgd, model_name=\"sgd\")"
   ]
  }
 ],
 "metadata": {
  "kernelspec": {
   "display_name": "Python 3 (ipykernel)",
   "language": "python",
   "name": "python3"
  },
  "language_info": {
   "codemirror_mode": {
    "name": "ipython",
    "version": 3
   },
   "file_extension": ".py",
   "mimetype": "text/x-python",
   "name": "python",
   "nbconvert_exporter": "python",
   "pygments_lexer": "ipython3",
   "version": "3.9.16"
  }
 },
 "nbformat": 4,
 "nbformat_minor": 5
}
